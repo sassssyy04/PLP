{
 "cells": [
  {
   "cell_type": "markdown",
   "id": "574c34dc",
   "metadata": {},
   "source": [
    "# Model Comparison Notebook (v4)\n",
    "This notebook compares a **PEFT‑fine‑tuned** model with its **base model** on any QA dataset, judges the answers with an OpenAI model, and can optionally save every prompt/answer/verdict to a CSV or JSONL file.\n",
    "\n",
    "**What's new in v4**\n",
    "* Outputs **separate counts** for **fine‑tuned wins**, **base wins**, and **ties** instead of a single tally.\n",
    "\n",
    "⚠️ **Requirements** (uncomment the next cell to install if needed):\n",
    "`pip install --upgrade openai datasets tqdm transformers peft pandas`\n",
    "\n",
    "Make sure the environment variable `OPENAI_API_KEY` is set before running the _Judge_ step."
   ]
  },
  {
   "cell_type": "code",
   "execution_count": null,
   "id": "2c4f8faa",
   "metadata": {},
   "outputs": [],
   "source": [
    "# !pip install --upgrade openai datasets tqdm transformers peft pandas\n",
    "# Uncomment ↑ if your environment does not have the required packages"
   ]
  },
  {
   "cell_type": "code",
   "execution_count": null,
   "id": "72c6db62",
   "metadata": {},
   "outputs": [],
   "source": [
    "\n",
    "import os\n",
    "import random\n",
    "import json\n",
    "from pathlib import Path\n",
    "from typing import Dict, List, Tuple\n",
    "\n",
    "import torch\n",
    "from datasets import load_dataset\n",
    "from tqdm import tqdm\n",
    "from transformers import AutoModelForCausalLM, AutoTokenizer\n",
    "from peft import PeftConfig, PeftModel\n",
    "\n",
    "try:\n",
    "    import pandas as pd\n",
    "except ImportError:\n",
    "    pd = None\n",
    "\n",
    "try:\n",
    "    from openai import OpenAI\n",
    "except ImportError:\n",
    "    OpenAI = None\n",
    "\n",
    "\n",
    "# -----------------------------\n",
    "# Helper functions\n",
    "# -----------------------------\n",
    "\n",
    "def load_models(checkpoint_path: str):\n",
    "    \"\"\"Load the base and PEFT‑finetuned models ready for generation.\"\"\"\n",
    "    peft_cfg = PeftConfig.from_pretrained(checkpoint_path)\n",
    "    base_name = peft_cfg.base_model_name_or_path\n",
    "\n",
    "    base_model = AutoModelForCausalLM.from_pretrained(base_name, trust_remote_code=True)\n",
    "    tokenizer = AutoTokenizer.from_pretrained(base_name, trust_remote_code=True)\n",
    "    tokenizer.pad_token = tokenizer.eos_token\n",
    "\n",
    "    finetuned_model = PeftModel.from_pretrained(base_model, checkpoint_path)\n",
    "\n",
    "    device = \"cuda\" if torch.cuda.is_available() else \"cpu\"\n",
    "    base_model.to(device).eval()\n",
    "    finetuned_model.to(device).eval()\n",
    "\n",
    "    return tokenizer, base_model, finetuned_model, device\n",
    "\n",
    "\n",
    "def generate(model, tokenizer, device, prompt: str, *, max_new_tokens: int = 200, temperature: float = 0.7, top_p: float = 0.9):\n",
    "    \"\"\"Generate a completion from a given model.\"\"\"\n",
    "    inputs = tokenizer(prompt, return_tensors=\"pt\").to(device)\n",
    "    with torch.no_grad():\n",
    "        ids = model.generate(\n",
    "            **inputs,\n",
    "            max_new_tokens=max_new_tokens,\n",
    "            do_sample=True,\n",
    "            temperature=temperature,\n",
    "            top_p=top_p,\n",
    "            repetition_penalty=1.1,\n",
    "            pad_token_id=tokenizer.eos_token_id,\n",
    "        )\n",
    "    return tokenizer.decode(ids[0], skip_special_tokens=True)\n",
    "\n",
    "\n",
    "def judge(question: str, answer_a: str, answer_b: str, *, model_name: str = \"gpt-3.5-turbo\", max_tokens: int = 700) -> int:\n",
    "    \"\"\"Ask an OpenAI model which answer is better.\n",
    "\n",
    "Returns +1 if *answer_a* is preferred, ‑1 if *answer_b* is preferred, 0 for a tie.\"\"\"\n",
    "    if OpenAI is None:\n",
    "        raise RuntimeError(\"openai>=1.0 package not installed.  pip install --upgrade openai\")\n",
    "\n",
    "    if not os.getenv(\"OPENAI_API_KEY\"):\n",
    "        raise EnvironmentError(\"OPENAI_API_KEY env var not set.\")\n",
    "\n",
    "    client = OpenAI()\n",
    "    system_prompt = \"\"\"You are an impartial judge tasked with deciding which of two answers to the same question is superior.  Consider factual correctness, helpfulness, completeness, and clarity. \"\\ \n",
    "        \"Your output should only be 'A' or 'B'.\" \"\"\"   \n",
    "    user_prompt = f\"\"\" \"Question: {question}\\n\\n\"        Answer A:\\n{answer_a}\\n\\n    Answer B:\\n{answer_b}\\n\\n       Which answer is better ?\"\"\"\n",
    "\n",
    "    response = client.chat.completions.create(\n",
    "        model=model_name,\n",
    "        messages=[\n",
    "            {\"role\": \"system\", \"content\": system_prompt},\n",
    "            {\"role\": \"user\", \"content\": user_prompt},\n",
    "        ],\n",
    "        temperature=0,\n",
    "        max_tokens=max_tokens,\n",
    "    )\n",
    "    verdict = response.choices[0].message.content.strip()\n",
    "    return {\"A\": 1, \"B\": -1}.get(verdict, \"not found\")\n",
    "\n",
    "\n",
    "def save_results(records: List[Dict[str, str]], path: Path):\n",
    "    \"\"\"Save the run details to CSV or JSONL depending on extension.\"\"\"\n",
    "    path = path.expanduser().resolve()\n",
    "    path.parent.mkdir(parents=True, exist_ok=True)\n",
    "\n",
    "    if path.suffix.lower() == \".jsonl\":\n",
    "        with open(path, \"w\", encoding=\"utf-8\") as fp:\n",
    "            for rec in records:\n",
    "                fp.write(json.dumps(rec, ensure_ascii=False) + \"\\n\")\n",
    "    else:  # default CSV\n",
    "        if pd is not None:\n",
    "            import pandas as _pdpkg\n",
    "            _pdpkg.DataFrame.from_records(records).to_csv(path, index=False)\n",
    "        else:\n",
    "            import csv\n",
    "            with open(path, \"w\", newline=\"\", encoding=\"utf-8\") as fp:\n",
    "                writer = csv.DictWriter(fp, fieldnames=records[0].keys())\n",
    "                writer.writeheader()\n",
    "                writer.writerows(records)\n"
   ]
  },
  {
   "cell_type": "code",
   "execution_count": 16,
   "id": "d31460dd",
   "metadata": {},
   "outputs": [],
   "source": [
    "# -----------------------------\n",
    "# Parameters (edit as desired)\n",
    "# -----------------------------\n",
    "checkpoint_path = \"./phi2-finetuned/checkpoint-240500\"  # path to PEFT checkpoint directory\n",
    "dataset_name = \"code_help_questions.jsonl\"               # path to your JSONL file or HF dataset name\n",
    "split = None                                              # ignored if dataset is a local JSONL\n",
    "num_samples = 30                                      # number of questions to evaluate\n",
    "judge_model = \"gpt-4o\"                                       # OpenAI model used for judging\n",
    "max_tokens_judge = 700                                    # max tokens for judge completion\n",
    "save_path = None  # e.g. \"run_results.csv\" or \"run_results.jsonl\"; set to None to skip saving\n"
   ]
  },
  {
   "cell_type": "code",
   "execution_count": 18,
   "id": "2d0a2d25",
   "metadata": {},
   "outputs": [
    {
     "name": "stdout",
     "output_type": "stream",
     "text": [
      "Loaded 30 questions.\n"
     ]
    },
    {
     "data": {
      "application/vnd.jupyter.widget-view+json": {
       "model_id": "6c9e805d60874f2397974c970cfc44e8",
       "version_major": 2,
       "version_minor": 0
      },
      "text/plain": [
       "Loading checkpoint shards:   0%|          | 0/2 [00:00<?, ?it/s]"
      ]
     },
     "metadata": {},
     "output_type": "display_data"
    },
    {
     "name": "stdout",
     "output_type": "stream",
     "text": [
      "Models loaded → device: cpu\n"
     ]
    }
   ],
   "source": [
    "# -----------------------------\n",
    "# Load data\n",
    "# -----------------------------\n",
    "if dataset_name and Path(dataset_name).is_file():\n",
    "    with open(dataset_name, \"r\", encoding=\"utf-8\") as fp:\n",
    "        raw = [json.loads(line) for line in fp]\n",
    "    questions = [item[\"question\"] for item in raw if \"question\" in item][: num_samples]\n",
    "else:\n",
    "    if split is None:\n",
    "        raise ValueError(\"'split' must be specified when using a HF dataset name\")\n",
    "    ds = load_dataset(dataset_name, split=split)\n",
    "    questions = ds[\"question\"][: num_samples]\n",
    "\n",
    "random.shuffle(questions)\n",
    "print(f\"Loaded {len(questions)} questions.\")\n",
    "\n",
    "# -----------------------------\n",
    "# Load models (this can take a while)\n",
    "# -----------------------------\n",
    "tokenizer, base_model, finetuned_model, device = load_models(checkpoint_path)\n",
    "print(\"Models loaded → device:\", device)\n"
   ]
  },
  {
   "cell_type": "code",
   "execution_count": null,
   "id": "d86d1eca",
   "metadata": {},
   "outputs": [
    {
     "name": "stderr",
     "output_type": "stream",
     "text": [
      "Evaluating:  50%|█████     | 1/2 [02:46<02:46, 166.16s/it]"
     ]
    },
    {
     "name": "stdout",
     "output_type": "stream",
     "text": [
      "Q{idx+1:>3}: FT\n"
     ]
    },
    {
     "name": "stderr",
     "output_type": "stream",
     "text": [
      "Evaluating: 100%|██████████| 2/2 [05:37<00:00, 168.83s/it]"
     ]
    },
    {
     "name": "stdout",
     "output_type": "stream",
     "text": [
      "Q{idx+1:>3}: BASE\n",
      "\n",
      "Finished! Summary of outcomes:\n",
      "Fine‑tuned wins : 1\n",
      "Base wins      : 1\n",
      "Ties           : 0\n"
     ]
    },
    {
     "name": "stderr",
     "output_type": "stream",
     "text": [
      "\n"
     ]
    }
   ],
   "source": [
    "# -----------------------------\n",
    "# Evaluate & print verdicts\n",
    "# -----------------------------\n",
    "ft_wins = 0\n",
    "base_wins = 0\n",
    "ties = 0\n",
    "records = []\n",
    "\n",
    "for idx, q in enumerate(tqdm(questions, desc=\"Evaluating\")):\n",
    "    prompt = f\"### Prompt:\\n{q}\\n\\n### Response:\\n\"\n",
    "    answer_ft = generate(finetuned_model, tokenizer, device, prompt)\n",
    "    answer_base = generate(base_model, tokenizer, device, prompt)\n",
    "\n",
    "    try:\n",
    "        outcome = judge(q, answer_ft, answer_base, model_name=judge_model, max_tokens=max_tokens_judge)\n",
    "    except Exception as e:\n",
    "        print(f\"[WARN] Judge step failed ({{e}}) — counting as Tie\")\n",
    "        outcome = 0\n",
    "\n",
    "    if outcome == 1:\n",
    "        ft_wins += 1\n",
    "        verdict_str = \"FT\"\n",
    "    elif outcome == -1:\n",
    "        base_wins += 1\n",
    "        verdict_str = \"BASE\"\n",
    "    else:\n",
    "        ties += 1\n",
    "        verdict_str = \"Tie\"\n",
    "\n",
    "    print(f\"Q{{idx+1:>3}}: {verdict_str}\")\n",
    "\n",
    "    records.append({\n",
    "        \"question\": q,\n",
    "        \"answer_ft\": answer_ft,\n",
    "        \"answer_base\": answer_base,\n",
    "        \"verdict\": verdict_str,\n",
    "    })\n",
    "\n",
    "print(\"\\nFinished! Summary of outcomes:\")\n",
    "print(f\"Fine‑tuned wins : {ft_wins}\")\n",
    "print(f\"Base wins      : {base_wins}\")\n",
    "print(f\"Ties           : {ties}\")\n"
   ]
  },
  {
   "cell_type": "code",
   "execution_count": 14,
   "id": "9ac1f5ce",
   "metadata": {},
   "outputs": [
    {
     "name": "stderr",
     "output_type": "stream",
     "text": [
      "Evaluating:  50%|█████     | 1/2 [03:00<03:00, 180.99s/it]"
     ]
    },
    {
     "name": "stdout",
     "output_type": "stream",
     "text": [
      "Q{idx+1:>3}: FT\n"
     ]
    },
    {
     "name": "stderr",
     "output_type": "stream",
     "text": [
      "Evaluating: 100%|██████████| 2/2 [06:01<00:00, 180.84s/it]"
     ]
    },
    {
     "name": "stdout",
     "output_type": "stream",
     "text": [
      "Q{idx+1:>3}: BASE\n",
      "\n",
      "Finished! Summary of outcomes:\n",
      "Fine‑tuned wins : 1\n",
      "Base wins      : 1\n",
      "Ties           : 0\n"
     ]
    },
    {
     "name": "stderr",
     "output_type": "stream",
     "text": [
      "\n"
     ]
    }
   ],
   "source": [
    "# -----------------------------\n",
    "# Evaluate & print verdicts\n",
    "# -----------------------------\n",
    "ft_wins = 0\n",
    "base_wins = 0\n",
    "ties = 0\n",
    "records = []\n",
    "\n",
    "for idx, q in enumerate(tqdm(questions, desc=\"Evaluating\")):\n",
    "    prompt = f\"### Prompt:\\n{q}\\n\\n### Response:\\n\"\n",
    "    answer_ft = generate(finetuned_model, tokenizer, device, prompt)\n",
    "    answer_base = generate(base_model, tokenizer, device, prompt)\n",
    "\n",
    "    try:\n",
    "        outcome = judge(q, answer_ft, answer_base, model_name=judge_model, max_tokens=max_tokens_judge)\n",
    "    except Exception as e:\n",
    "        print(f\"[WARN] Judge step failed ({{e}}) — counting as Tie\")\n",
    "        outcome = 0\n",
    "\n",
    "    if outcome == 1:\n",
    "        ft_wins += 1\n",
    "        verdict_str = \"FT\"\n",
    "    elif outcome == -1:\n",
    "        base_wins += 1\n",
    "        verdict_str = \"BASE\"\n",
    "    else:\n",
    "        ties += 1\n",
    "        verdict_str = \"Tie\"\n",
    "\n",
    "    print(f\"Q{{idx+1:>3}}: {verdict_str}\")\n",
    "\n",
    "    records.append({\n",
    "        \"question\": q,\n",
    "        \"answer_ft\": answer_ft,\n",
    "        \"answer_base\": answer_base,\n",
    "        \"verdict\": verdict_str,\n",
    "    })\n",
    "\n",
    "print(\"\\nFinished! Summary of outcomes:\")\n",
    "print(f\"Fine‑tuned wins : {ft_wins}\")\n",
    "print(f\"Base wins      : {base_wins}\")\n",
    "print(f\"Ties           : {ties}\")\n"
   ]
  },
  {
   "cell_type": "markdown",
   "id": "e1f5f34b",
   "metadata": {},
   "source": [
    "#### at checkpoint 240500"
   ]
  },
  {
   "cell_type": "code",
   "execution_count": 19,
   "id": "51d9fcfd",
   "metadata": {},
   "outputs": [
    {
     "name": "stderr",
     "output_type": "stream",
     "text": [
      "Evaluating:   3%|▎         | 1/30 [01:37<47:01, 97.29s/it]"
     ]
    },
    {
     "name": "stdout",
     "output_type": "stream",
     "text": [
      "Q{idx+1:>3}: BASE\n"
     ]
    },
    {
     "name": "stderr",
     "output_type": "stream",
     "text": [
      "Evaluating:   7%|▋         | 2/30 [03:02<42:07, 90.26s/it]"
     ]
    },
    {
     "name": "stdout",
     "output_type": "stream",
     "text": [
      "Q{idx+1:>3}: FT\n"
     ]
    },
    {
     "name": "stderr",
     "output_type": "stream",
     "text": [
      "Evaluating:  10%|█         | 3/30 [05:35<53:34, 119.05s/it]"
     ]
    },
    {
     "name": "stdout",
     "output_type": "stream",
     "text": [
      "Q{idx+1:>3}: BASE\n"
     ]
    },
    {
     "name": "stderr",
     "output_type": "stream",
     "text": [
      "Evaluating:  13%|█▎        | 4/30 [07:19<48:51, 112.74s/it]"
     ]
    },
    {
     "name": "stdout",
     "output_type": "stream",
     "text": [
      "Q{idx+1:>3}: BASE\n"
     ]
    },
    {
     "name": "stderr",
     "output_type": "stream",
     "text": [
      "Evaluating:  17%|█▋        | 5/30 [08:26<40:14, 96.56s/it] "
     ]
    },
    {
     "name": "stdout",
     "output_type": "stream",
     "text": [
      "Q{idx+1:>3}: FT\n"
     ]
    },
    {
     "name": "stderr",
     "output_type": "stream",
     "text": [
      "Evaluating:  20%|██        | 6/30 [10:23<41:17, 103.24s/it]"
     ]
    },
    {
     "name": "stdout",
     "output_type": "stream",
     "text": [
      "Q{idx+1:>3}: Tie\n"
     ]
    },
    {
     "name": "stderr",
     "output_type": "stream",
     "text": [
      "Evaluating:  23%|██▎       | 7/30 [11:45<36:55, 96.34s/it] "
     ]
    },
    {
     "name": "stdout",
     "output_type": "stream",
     "text": [
      "Q{idx+1:>3}: Tie\n"
     ]
    },
    {
     "name": "stderr",
     "output_type": "stream",
     "text": [
      "Evaluating:  27%|██▋       | 8/30 [13:20<35:11, 95.98s/it]"
     ]
    },
    {
     "name": "stdout",
     "output_type": "stream",
     "text": [
      "Q{idx+1:>3}: FT\n"
     ]
    },
    {
     "name": "stderr",
     "output_type": "stream",
     "text": [
      "Evaluating:  30%|███       | 9/30 [14:43<32:08, 91.83s/it]"
     ]
    },
    {
     "name": "stdout",
     "output_type": "stream",
     "text": [
      "Q{idx+1:>3}: FT\n"
     ]
    },
    {
     "name": "stderr",
     "output_type": "stream",
     "text": [
      "Evaluating:  33%|███▎      | 10/30 [17:34<38:49, 116.47s/it]"
     ]
    },
    {
     "name": "stdout",
     "output_type": "stream",
     "text": [
      "Q{idx+1:>3}: Tie\n"
     ]
    },
    {
     "name": "stderr",
     "output_type": "stream",
     "text": [
      "Evaluating:  37%|███▋      | 11/30 [20:31<42:44, 134.97s/it]"
     ]
    },
    {
     "name": "stdout",
     "output_type": "stream",
     "text": [
      "Q{idx+1:>3}: Tie\n"
     ]
    },
    {
     "name": "stderr",
     "output_type": "stream",
     "text": [
      "Evaluating:  40%|████      | 12/30 [23:06<42:16, 140.90s/it]"
     ]
    },
    {
     "name": "stdout",
     "output_type": "stream",
     "text": [
      "Q{idx+1:>3}: Tie\n"
     ]
    },
    {
     "name": "stderr",
     "output_type": "stream",
     "text": [
      "Evaluating:  43%|████▎     | 13/30 [26:00<42:49, 151.17s/it]"
     ]
    },
    {
     "name": "stdout",
     "output_type": "stream",
     "text": [
      "Q{idx+1:>3}: FT\n"
     ]
    },
    {
     "name": "stderr",
     "output_type": "stream",
     "text": [
      "Evaluating:  47%|████▋     | 14/30 [30:02<47:33, 178.36s/it]"
     ]
    },
    {
     "name": "stdout",
     "output_type": "stream",
     "text": [
      "Q{idx+1:>3}: BASE\n"
     ]
    },
    {
     "name": "stderr",
     "output_type": "stream",
     "text": [
      "Evaluating:  50%|█████     | 15/30 [31:26<37:28, 149.90s/it]"
     ]
    },
    {
     "name": "stdout",
     "output_type": "stream",
     "text": [
      "Q{idx+1:>3}: Tie\n"
     ]
    },
    {
     "name": "stderr",
     "output_type": "stream",
     "text": [
      "Evaluating:  53%|█████▎    | 16/30 [35:21<40:58, 175.59s/it]"
     ]
    },
    {
     "name": "stdout",
     "output_type": "stream",
     "text": [
      "Q{idx+1:>3}: BASE\n"
     ]
    },
    {
     "name": "stderr",
     "output_type": "stream",
     "text": [
      "Evaluating:  57%|█████▋    | 17/30 [36:45<32:05, 148.12s/it]"
     ]
    },
    {
     "name": "stdout",
     "output_type": "stream",
     "text": [
      "Q{idx+1:>3}: Tie\n"
     ]
    },
    {
     "name": "stderr",
     "output_type": "stream",
     "text": [
      "Evaluating:  60%|██████    | 18/30 [40:42<34:58, 174.88s/it]"
     ]
    },
    {
     "name": "stdout",
     "output_type": "stream",
     "text": [
      "Q{idx+1:>3}: BASE\n"
     ]
    },
    {
     "name": "stderr",
     "output_type": "stream",
     "text": [
      "Evaluating:  63%|██████▎   | 19/30 [44:14<34:05, 185.96s/it]"
     ]
    },
    {
     "name": "stdout",
     "output_type": "stream",
     "text": [
      "Q{idx+1:>3}: BASE\n"
     ]
    },
    {
     "name": "stderr",
     "output_type": "stream",
     "text": [
      "Evaluating:  67%|██████▋   | 20/30 [46:41<29:03, 174.38s/it]"
     ]
    },
    {
     "name": "stdout",
     "output_type": "stream",
     "text": [
      "Q{idx+1:>3}: FT\n"
     ]
    },
    {
     "name": "stderr",
     "output_type": "stream",
     "text": [
      "Evaluating:  70%|███████   | 21/30 [50:25<28:22, 189.17s/it]"
     ]
    },
    {
     "name": "stdout",
     "output_type": "stream",
     "text": [
      "Q{idx+1:>3}: FT\n"
     ]
    },
    {
     "name": "stderr",
     "output_type": "stream",
     "text": [
      "Evaluating:  73%|███████▎  | 22/30 [53:14<24:24, 183.09s/it]"
     ]
    },
    {
     "name": "stdout",
     "output_type": "stream",
     "text": [
      "Q{idx+1:>3}: FT\n"
     ]
    },
    {
     "name": "stderr",
     "output_type": "stream",
     "text": [
      "Evaluating:  77%|███████▋  | 23/30 [57:06<23:04, 197.74s/it]"
     ]
    },
    {
     "name": "stdout",
     "output_type": "stream",
     "text": [
      "Q{idx+1:>3}: Tie\n"
     ]
    },
    {
     "name": "stderr",
     "output_type": "stream",
     "text": [
      "Evaluating:  80%|████████  | 24/30 [1:00:25<19:49, 198.23s/it]"
     ]
    },
    {
     "name": "stdout",
     "output_type": "stream",
     "text": [
      "Q{idx+1:>3}: BASE\n"
     ]
    },
    {
     "name": "stderr",
     "output_type": "stream",
     "text": [
      "Evaluating:  83%|████████▎ | 25/30 [1:01:45<13:33, 162.73s/it]"
     ]
    },
    {
     "name": "stdout",
     "output_type": "stream",
     "text": [
      "Q{idx+1:>3}: FT\n"
     ]
    },
    {
     "name": "stderr",
     "output_type": "stream",
     "text": [
      "Evaluating:  87%|████████▋ | 26/30 [1:05:30<12:05, 181.26s/it]"
     ]
    },
    {
     "name": "stdout",
     "output_type": "stream",
     "text": [
      "Q{idx+1:>3}: FT\n"
     ]
    },
    {
     "name": "stderr",
     "output_type": "stream",
     "text": [
      "Evaluating:  90%|█████████ | 27/30 [1:09:04<09:33, 191.15s/it]"
     ]
    },
    {
     "name": "stdout",
     "output_type": "stream",
     "text": [
      "Q{idx+1:>3}: BASE\n"
     ]
    },
    {
     "name": "stderr",
     "output_type": "stream",
     "text": [
      "Evaluating:  93%|█████████▎| 28/30 [1:12:43<06:39, 199.61s/it]"
     ]
    },
    {
     "name": "stdout",
     "output_type": "stream",
     "text": [
      "Q{idx+1:>3}: FT\n"
     ]
    },
    {
     "name": "stderr",
     "output_type": "stream",
     "text": [
      "Evaluating:  97%|█████████▋| 29/30 [1:14:53<02:58, 178.77s/it]"
     ]
    },
    {
     "name": "stdout",
     "output_type": "stream",
     "text": [
      "Q{idx+1:>3}: BASE\n"
     ]
    },
    {
     "name": "stderr",
     "output_type": "stream",
     "text": [
      "Evaluating: 100%|██████████| 30/30 [1:17:56<00:00, 155.89s/it]"
     ]
    },
    {
     "name": "stdout",
     "output_type": "stream",
     "text": [
      "Q{idx+1:>3}: FT\n",
      "\n",
      "Finished! Summary of outcomes:\n",
      "Fine‑tuned wins : 12\n",
      "Base wins      : 10\n",
      "Ties           : 8\n"
     ]
    },
    {
     "name": "stderr",
     "output_type": "stream",
     "text": [
      "\n"
     ]
    }
   ],
   "source": [
    "# -----------------------------\n",
    "# Evaluate & print verdicts\n",
    "# -----------------------------\n",
    "ft_wins = 0\n",
    "base_wins = 0\n",
    "ties = 0\n",
    "records = []\n",
    "\n",
    "for idx, q in enumerate(tqdm(questions, desc=\"Evaluating\")):\n",
    "    prompt = f\"### Prompt:\\n{q}\\n\\n### Response:\\n\"\n",
    "    answer_ft = generate(finetuned_model, tokenizer, device, prompt)\n",
    "    answer_base = generate(base_model, tokenizer, device, prompt)\n",
    "\n",
    "    try:\n",
    "        outcome = judge(q, answer_ft, answer_base, model_name=judge_model, max_tokens=max_tokens_judge)\n",
    "    except Exception as e:\n",
    "        print(f\"[WARN] Judge step failed ({{e}}) — counting as Tie\")\n",
    "        outcome = 0\n",
    "\n",
    "    if outcome == 1:\n",
    "        ft_wins += 1\n",
    "        verdict_str = \"FT\"\n",
    "    elif outcome == -1:\n",
    "        base_wins += 1\n",
    "        verdict_str = \"BASE\"\n",
    "    else:\n",
    "        ties += 1\n",
    "        verdict_str = \"Tie\"\n",
    "\n",
    "    print(f\"Q{{idx+1:>3}}: {verdict_str}\")\n",
    "\n",
    "    records.append({\n",
    "        \"question\": q,\n",
    "        \"answer_ft\": answer_ft,\n",
    "        \"answer_base\": answer_base,\n",
    "        \"verdict\": verdict_str,\n",
    "    })\n",
    "\n",
    "print(\"\\nFinished! Summary of outcomes:\")\n",
    "print(f\"Fine‑tuned wins : {ft_wins}\")\n",
    "print(f\"Base wins      : {base_wins}\")\n",
    "print(f\"Ties           : {ties}\")\n"
   ]
  },
  {
   "cell_type": "markdown",
   "id": "35027064",
   "metadata": {},
   "source": [
    "### at checkpoint 137000\n"
   ]
  },
  {
   "cell_type": "code",
   "execution_count": 10,
   "id": "0a1db3ac",
   "metadata": {},
   "outputs": [
    {
     "name": "stderr",
     "output_type": "stream",
     "text": [
      "Evaluating:   2%|▏         | 1/50 [01:19<1:04:49, 79.38s/it]"
     ]
    },
    {
     "name": "stdout",
     "output_type": "stream",
     "text": [
      "Q{idx+1:>3}: FT\n"
     ]
    },
    {
     "name": "stderr",
     "output_type": "stream",
     "text": [
      "Evaluating:   4%|▍         | 2/50 [02:49<1:08:35, 85.74s/it]"
     ]
    },
    {
     "name": "stdout",
     "output_type": "stream",
     "text": [
      "Q{idx+1:>3}: Tie\n"
     ]
    },
    {
     "name": "stderr",
     "output_type": "stream",
     "text": [
      "Evaluating:   6%|▌         | 3/50 [06:51<2:02:58, 156.99s/it]"
     ]
    },
    {
     "name": "stdout",
     "output_type": "stream",
     "text": [
      "Q{idx+1:>3}: FT\n"
     ]
    },
    {
     "name": "stderr",
     "output_type": "stream",
     "text": [
      "Evaluating:   8%|▊         | 4/50 [09:24<1:59:17, 155.59s/it]"
     ]
    },
    {
     "name": "stdout",
     "output_type": "stream",
     "text": [
      "Q{idx+1:>3}: FT\n"
     ]
    },
    {
     "name": "stderr",
     "output_type": "stream",
     "text": [
      "Evaluating:  10%|█         | 5/50 [11:06<1:42:04, 136.10s/it]"
     ]
    },
    {
     "name": "stdout",
     "output_type": "stream",
     "text": [
      "Q{idx+1:>3}: Tie\n"
     ]
    },
    {
     "name": "stderr",
     "output_type": "stream",
     "text": [
      "Evaluating:  12%|█▏        | 6/50 [13:04<1:35:25, 130.12s/it]"
     ]
    },
    {
     "name": "stdout",
     "output_type": "stream",
     "text": [
      "Q{idx+1:>3}: BASE\n"
     ]
    },
    {
     "name": "stderr",
     "output_type": "stream",
     "text": [
      "Evaluating:  14%|█▍        | 7/50 [14:44<1:26:01, 120.04s/it]"
     ]
    },
    {
     "name": "stdout",
     "output_type": "stream",
     "text": [
      "Q{idx+1:>3}: FT\n"
     ]
    },
    {
     "name": "stderr",
     "output_type": "stream",
     "text": [
      "Evaluating:  16%|█▌        | 8/50 [15:32<1:08:03, 97.23s/it] "
     ]
    },
    {
     "name": "stdout",
     "output_type": "stream",
     "text": [
      "Q{idx+1:>3}: FT\n"
     ]
    },
    {
     "name": "stderr",
     "output_type": "stream",
     "text": [
      "Evaluating:  18%|█▊        | 9/50 [17:00<1:04:33, 94.48s/it]"
     ]
    },
    {
     "name": "stdout",
     "output_type": "stream",
     "text": [
      "Q{idx+1:>3}: FT\n"
     ]
    },
    {
     "name": "stderr",
     "output_type": "stream",
     "text": [
      "Evaluating:  20%|██        | 10/50 [18:51<1:06:15, 99.38s/it]"
     ]
    },
    {
     "name": "stdout",
     "output_type": "stream",
     "text": [
      "Q{idx+1:>3}: FT\n"
     ]
    },
    {
     "name": "stderr",
     "output_type": "stream",
     "text": [
      "Evaluating:  22%|██▏       | 11/50 [21:19<1:14:22, 114.43s/it]"
     ]
    },
    {
     "name": "stdout",
     "output_type": "stream",
     "text": [
      "Q{idx+1:>3}: BASE\n"
     ]
    },
    {
     "name": "stderr",
     "output_type": "stream",
     "text": [
      "Evaluating:  24%|██▍       | 12/50 [22:55<1:08:47, 108.62s/it]"
     ]
    },
    {
     "name": "stdout",
     "output_type": "stream",
     "text": [
      "Q{idx+1:>3}: BASE\n"
     ]
    },
    {
     "name": "stderr",
     "output_type": "stream",
     "text": [
      "Evaluating:  26%|██▌       | 13/50 [24:35<1:05:25, 106.08s/it]"
     ]
    },
    {
     "name": "stdout",
     "output_type": "stream",
     "text": [
      "Q{idx+1:>3}: BASE\n"
     ]
    },
    {
     "name": "stderr",
     "output_type": "stream",
     "text": [
      "Evaluating:  28%|██▊       | 14/50 [27:26<1:15:29, 125.82s/it]"
     ]
    },
    {
     "name": "stdout",
     "output_type": "stream",
     "text": [
      "Q{idx+1:>3}: FT\n"
     ]
    },
    {
     "name": "stderr",
     "output_type": "stream",
     "text": [
      "Evaluating:  30%|███       | 15/50 [29:21<1:11:25, 122.45s/it]"
     ]
    },
    {
     "name": "stdout",
     "output_type": "stream",
     "text": [
      "Q{idx+1:>3}: Tie\n"
     ]
    },
    {
     "name": "stderr",
     "output_type": "stream",
     "text": [
      "Evaluating:  32%|███▏      | 16/50 [31:20<1:08:46, 121.38s/it]"
     ]
    },
    {
     "name": "stdout",
     "output_type": "stream",
     "text": [
      "Q{idx+1:>3}: FT\n"
     ]
    },
    {
     "name": "stderr",
     "output_type": "stream",
     "text": [
      "Evaluating:  34%|███▍      | 17/50 [34:09<1:14:40, 135.77s/it]"
     ]
    },
    {
     "name": "stdout",
     "output_type": "stream",
     "text": [
      "Q{idx+1:>3}: BASE\n"
     ]
    },
    {
     "name": "stderr",
     "output_type": "stream",
     "text": [
      "Evaluating:  36%|███▌      | 18/50 [36:31<1:13:22, 137.57s/it]"
     ]
    },
    {
     "name": "stdout",
     "output_type": "stream",
     "text": [
      "Q{idx+1:>3}: Tie\n"
     ]
    },
    {
     "name": "stderr",
     "output_type": "stream",
     "text": [
      "Evaluating:  38%|███▊      | 19/50 [37:52<1:02:19, 120.63s/it]"
     ]
    },
    {
     "name": "stdout",
     "output_type": "stream",
     "text": [
      "Q{idx+1:>3}: FT\n"
     ]
    },
    {
     "name": "stderr",
     "output_type": "stream",
     "text": [
      "Evaluating:  40%|████      | 20/50 [40:06<1:02:15, 124.50s/it]"
     ]
    },
    {
     "name": "stdout",
     "output_type": "stream",
     "text": [
      "Q{idx+1:>3}: FT\n"
     ]
    },
    {
     "name": "stderr",
     "output_type": "stream",
     "text": [
      "Evaluating:  42%|████▏     | 21/50 [42:33<1:03:26, 131.25s/it]"
     ]
    },
    {
     "name": "stdout",
     "output_type": "stream",
     "text": [
      "Q{idx+1:>3}: BASE\n"
     ]
    },
    {
     "name": "stderr",
     "output_type": "stream",
     "text": [
      "Evaluating:  44%|████▍     | 22/50 [46:09<1:13:12, 156.88s/it]"
     ]
    },
    {
     "name": "stdout",
     "output_type": "stream",
     "text": [
      "Q{idx+1:>3}: BASE\n"
     ]
    },
    {
     "name": "stderr",
     "output_type": "stream",
     "text": [
      "Evaluating:  46%|████▌     | 23/50 [49:35<1:17:14, 171.65s/it]"
     ]
    },
    {
     "name": "stdout",
     "output_type": "stream",
     "text": [
      "Q{idx+1:>3}: Tie\n"
     ]
    },
    {
     "name": "stderr",
     "output_type": "stream",
     "text": [
      "Evaluating:  48%|████▊     | 24/50 [53:29<1:22:26, 190.26s/it]"
     ]
    },
    {
     "name": "stdout",
     "output_type": "stream",
     "text": [
      "Q{idx+1:>3}: Tie\n"
     ]
    },
    {
     "name": "stderr",
     "output_type": "stream",
     "text": [
      "Evaluating:  50%|█████     | 25/50 [54:15<1:01:16, 147.08s/it]"
     ]
    },
    {
     "name": "stdout",
     "output_type": "stream",
     "text": [
      "Q{idx+1:>3}: Tie\n"
     ]
    },
    {
     "name": "stderr",
     "output_type": "stream",
     "text": [
      "Evaluating:  52%|█████▏    | 26/50 [56:19<56:00, 140.04s/it]  "
     ]
    },
    {
     "name": "stdout",
     "output_type": "stream",
     "text": [
      "Q{idx+1:>3}: Tie\n"
     ]
    },
    {
     "name": "stderr",
     "output_type": "stream",
     "text": [
      "Evaluating:  54%|█████▍    | 27/50 [58:37<53:26, 139.40s/it]"
     ]
    },
    {
     "name": "stdout",
     "output_type": "stream",
     "text": [
      "Q{idx+1:>3}: FT\n"
     ]
    },
    {
     "name": "stderr",
     "output_type": "stream",
     "text": [
      "Evaluating:  56%|█████▌    | 28/50 [1:00:39<49:15, 134.35s/it]"
     ]
    },
    {
     "name": "stdout",
     "output_type": "stream",
     "text": [
      "Q{idx+1:>3}: BASE\n"
     ]
    },
    {
     "name": "stderr",
     "output_type": "stream",
     "text": [
      "Evaluating:  58%|█████▊    | 29/50 [1:03:34<51:17, 146.55s/it]"
     ]
    },
    {
     "name": "stdout",
     "output_type": "stream",
     "text": [
      "Q{idx+1:>3}: BASE\n"
     ]
    },
    {
     "name": "stderr",
     "output_type": "stream",
     "text": [
      "Evaluating:  60%|██████    | 30/50 [1:04:33<40:00, 120.02s/it]"
     ]
    },
    {
     "name": "stdout",
     "output_type": "stream",
     "text": [
      "Q{idx+1:>3}: FT\n"
     ]
    },
    {
     "name": "stderr",
     "output_type": "stream",
     "text": [
      "Evaluating:  62%|██████▏   | 31/50 [1:07:22<42:41, 134.82s/it]"
     ]
    },
    {
     "name": "stdout",
     "output_type": "stream",
     "text": [
      "Q{idx+1:>3}: FT\n"
     ]
    },
    {
     "name": "stderr",
     "output_type": "stream",
     "text": [
      "Evaluating:  64%|██████▍   | 32/50 [1:09:48<41:28, 138.23s/it]"
     ]
    },
    {
     "name": "stdout",
     "output_type": "stream",
     "text": [
      "Q{idx+1:>3}: Tie\n"
     ]
    },
    {
     "name": "stderr",
     "output_type": "stream",
     "text": [
      "Evaluating:  66%|██████▌   | 33/50 [1:10:58<33:22, 117.82s/it]"
     ]
    },
    {
     "name": "stdout",
     "output_type": "stream",
     "text": [
      "Q{idx+1:>3}: BASE\n"
     ]
    },
    {
     "name": "stderr",
     "output_type": "stream",
     "text": [
      "Evaluating:  68%|██████▊   | 34/50 [1:13:18<33:12, 124.51s/it]"
     ]
    },
    {
     "name": "stdout",
     "output_type": "stream",
     "text": [
      "Q{idx+1:>3}: BASE\n"
     ]
    },
    {
     "name": "stderr",
     "output_type": "stream",
     "text": [
      "Evaluating:  70%|███████   | 35/50 [1:15:18<30:46, 123.10s/it]"
     ]
    },
    {
     "name": "stdout",
     "output_type": "stream",
     "text": [
      "Q{idx+1:>3}: BASE\n"
     ]
    },
    {
     "name": "stderr",
     "output_type": "stream",
     "text": [
      "Evaluating:  72%|███████▏  | 36/50 [1:17:21<28:41, 122.95s/it]"
     ]
    },
    {
     "name": "stdout",
     "output_type": "stream",
     "text": [
      "Q{idx+1:>3}: Tie\n"
     ]
    },
    {
     "name": "stderr",
     "output_type": "stream",
     "text": [
      "Evaluating:  74%|███████▍  | 37/50 [1:18:17<22:16, 102.81s/it]"
     ]
    },
    {
     "name": "stdout",
     "output_type": "stream",
     "text": [
      "Q{idx+1:>3}: FT\n"
     ]
    },
    {
     "name": "stderr",
     "output_type": "stream",
     "text": [
      "Evaluating:  76%|███████▌  | 38/50 [1:20:35<22:40, 113.41s/it]"
     ]
    },
    {
     "name": "stdout",
     "output_type": "stream",
     "text": [
      "Q{idx+1:>3}: Tie\n"
     ]
    },
    {
     "name": "stderr",
     "output_type": "stream",
     "text": [
      "Evaluating:  78%|███████▊  | 39/50 [1:23:33<24:22, 132.92s/it]"
     ]
    },
    {
     "name": "stdout",
     "output_type": "stream",
     "text": [
      "Q{idx+1:>3}: BASE\n"
     ]
    },
    {
     "name": "stderr",
     "output_type": "stream",
     "text": [
      "Evaluating:  80%|████████  | 40/50 [1:25:12<20:27, 122.77s/it]"
     ]
    },
    {
     "name": "stdout",
     "output_type": "stream",
     "text": [
      "Q{idx+1:>3}: Tie\n"
     ]
    },
    {
     "name": "stderr",
     "output_type": "stream",
     "text": [
      "Evaluating:  82%|████████▏ | 41/50 [1:28:10<20:54, 139.35s/it]"
     ]
    },
    {
     "name": "stdout",
     "output_type": "stream",
     "text": [
      "Q{idx+1:>3}: Tie\n"
     ]
    },
    {
     "name": "stderr",
     "output_type": "stream",
     "text": [
      "Evaluating:  84%|████████▍ | 42/50 [1:31:33<21:06, 158.26s/it]"
     ]
    },
    {
     "name": "stdout",
     "output_type": "stream",
     "text": [
      "Q{idx+1:>3}: FT\n"
     ]
    },
    {
     "name": "stderr",
     "output_type": "stream",
     "text": [
      "Evaluating:  86%|████████▌ | 43/50 [1:33:59<18:01, 154.54s/it]"
     ]
    },
    {
     "name": "stdout",
     "output_type": "stream",
     "text": [
      "Q{idx+1:>3}: FT\n"
     ]
    },
    {
     "name": "stderr",
     "output_type": "stream",
     "text": [
      "Evaluating:  88%|████████▊ | 44/50 [1:36:14<14:52, 148.81s/it]"
     ]
    },
    {
     "name": "stdout",
     "output_type": "stream",
     "text": [
      "Q{idx+1:>3}: BASE\n"
     ]
    },
    {
     "name": "stderr",
     "output_type": "stream",
     "text": [
      "Evaluating:  90%|█████████ | 45/50 [1:39:48<14:02, 168.50s/it]"
     ]
    },
    {
     "name": "stdout",
     "output_type": "stream",
     "text": [
      "Q{idx+1:>3}: Tie\n"
     ]
    },
    {
     "name": "stderr",
     "output_type": "stream",
     "text": [
      "Evaluating:  92%|█████████▏| 46/50 [1:43:34<12:22, 185.53s/it]"
     ]
    },
    {
     "name": "stdout",
     "output_type": "stream",
     "text": [
      "Q{idx+1:>3}: BASE\n"
     ]
    },
    {
     "name": "stderr",
     "output_type": "stream",
     "text": [
      "Evaluating:  94%|█████████▍| 47/50 [1:46:40<09:16, 185.66s/it]"
     ]
    },
    {
     "name": "stdout",
     "output_type": "stream",
     "text": [
      "Q{idx+1:>3}: Tie\n"
     ]
    },
    {
     "name": "stderr",
     "output_type": "stream",
     "text": [
      "Evaluating:  96%|█████████▌| 48/50 [1:49:04<05:46, 173.22s/it]"
     ]
    },
    {
     "name": "stdout",
     "output_type": "stream",
     "text": [
      "Q{idx+1:>3}: BASE\n"
     ]
    },
    {
     "name": "stderr",
     "output_type": "stream",
     "text": [
      "Evaluating:  98%|█████████▊| 49/50 [1:51:15<02:40, 160.46s/it]"
     ]
    },
    {
     "name": "stdout",
     "output_type": "stream",
     "text": [
      "Q{idx+1:>3}: BASE\n"
     ]
    },
    {
     "name": "stderr",
     "output_type": "stream",
     "text": [
      "Evaluating: 100%|██████████| 50/50 [1:52:50<00:00, 135.40s/it]"
     ]
    },
    {
     "name": "stdout",
     "output_type": "stream",
     "text": [
      "Q{idx+1:>3}: BASE\n",
      "\n",
      "Finished! Summary of outcomes:\n",
      "Fine‑tuned wins : 17\n",
      "Base wins      : 18\n",
      "Ties           : 15\n"
     ]
    },
    {
     "name": "stderr",
     "output_type": "stream",
     "text": [
      "\n"
     ]
    }
   ],
   "source": [
    "# -----------------------------\n",
    "# Evaluate & print verdicts\n",
    "# -----------------------------\n",
    "ft_wins = 0\n",
    "base_wins = 0\n",
    "ties = 0\n",
    "records = []\n",
    "\n",
    "for idx, q in enumerate(tqdm(questions, desc=\"Evaluating\")):\n",
    "    prompt = f\"### Prompt:\\n{q}\\n\\n### Response:\\n\"\n",
    "    answer_ft = generate(finetuned_model, tokenizer, device, prompt)\n",
    "    answer_base = generate(base_model, tokenizer, device, prompt)\n",
    "\n",
    "    try:\n",
    "        outcome = judge(q, answer_ft, answer_base, model_name=judge_model, max_tokens=max_tokens_judge)\n",
    "    except Exception as e:\n",
    "        print(f\"[WARN] Judge step failed ({{e}}) — counting as Tie\")\n",
    "        outcome = 0\n",
    "\n",
    "    if outcome == 1:\n",
    "        ft_wins += 1\n",
    "        verdict_str = \"FT\"\n",
    "    elif outcome == -1:\n",
    "        base_wins += 1\n",
    "        verdict_str = \"BASE\"\n",
    "    else:\n",
    "        ties += 1\n",
    "        verdict_str = \"Tie\"\n",
    "\n",
    "    print(f\"Q{{idx+1:>3}}: {verdict_str}\")\n",
    "\n",
    "    records.append({\n",
    "        \"question\": q,\n",
    "        \"answer_ft\": answer_ft,\n",
    "        \"answer_base\": answer_base,\n",
    "        \"verdict\": verdict_str,\n",
    "    })\n",
    "\n",
    "print(\"\\nFinished! Summary of outcomes:\")\n",
    "print(f\"Fine‑tuned wins : {ft_wins}\")\n",
    "print(f\"Base wins      : {base_wins}\")\n",
    "print(f\"Ties           : {ties}\")\n"
   ]
  },
  {
   "cell_type": "code",
   "execution_count": null,
   "id": "06ab87be",
   "metadata": {},
   "outputs": [],
   "source": [
    "# -----------------------------\n",
    "# Save detailed results (optional)\n",
    "# -----------------------------\n",
    "if save_path:\n",
    "    save_results(records, Path(save_path))\n",
    "    print(f\"Detailed results written to: {Path(save_path).resolve()}\")\n",
    "else:\n",
    "    print(\"Skipping file save (save_path is None)\")"
   ]
  },
  {
   "cell_type": "code",
   "execution_count": 20,
   "id": "0e7090ae",
   "metadata": {},
   "outputs": [],
   "source": [
    "## vis"
   ]
  },
  {
   "cell_type": "code",
   "execution_count": 22,
   "id": "486c1f5d",
   "metadata": {},
   "outputs": [
    {
     "data": {
      "image/png": "[encoded data removed]",
      "text/plain": [
       "<Figure size 1000x600 with 1 Axes>"
      ]
     },
     "metadata": {},
     "output_type": "display_data"
    }
   ],
   "source": [
    "# Re-importing matplotlib and redefining the variables to fix the NameError\n",
    "import matplotlib.pyplot as plt\n",
    "\n",
    "# Updated data and labels\n",
    "checkpoints = [\"137,000\", \"240,500\"]\n",
    "fine_tuned_wins = [20, 14]\n",
    "base_wins = [15, 8]\n",
    "ties = [15, 8]\n",
    "\n",
    "# Bar width and position setup\n",
    "bar_width = 0.25\n",
    "r1 = range(len(checkpoints))\n",
    "r2 = [x + bar_width for x in r1]\n",
    "r3 = [x + bar_width for x in r2]\n",
    "\n",
    "# Plotting\n",
    "plt.figure(figsize=(10, 6))\n",
    "plt.bar(r1, fine_tuned_wins, width=bar_width, label=\"Fine-tuned Wins\")\n",
    "plt.bar(r2, base_wins, width=bar_width, label=\"Base Wins\")\n",
    "plt.bar(r3, ties, width=bar_width, label=\"Ties\")\n",
    "\n",
    "# Labels and titles\n",
    "plt.xlabel(\"Checkpoint\")\n",
    "plt.ylabel(\"Number of Outcomes\")\n",
    "plt.title(\"Comparison of Fine-tuned vs Base Phi-2 Model Performance\")\n",
    "plt.xticks([r + bar_width for r in range(len(checkpoints))], checkpoints)\n",
    "plt.legend()\n",
    "plt.tight_layout()\n",
    "plt.grid(axis='y', linestyle='--', alpha=0.7)\n",
    "\n",
    "plt.show()\n"
   ]
  },
  {
   "cell_type": "code",
   "execution_count": null,
   "id": "8b1117d7",
   "metadata": {},
   "outputs": [],
   "source": []
  }
 ],
 "metadata": {
  "kernelspec": {
   "display_name": "RS",
   "language": "python",
   "name": "python3"
  },
  "language_info": {
   "codemirror_mode": {
    "name": "ipython",
    "version": 3
   },
   "file_extension": ".py",
   "mimetype": "text/x-python",
   "name": "python",
   "nbconvert_exporter": "python",
   "pygments_lexer": "ipython3",
   "version": "3.10.14"
  }
 },
 "nbformat": 4,
 "nbformat_minor": 5
}
